{
 "cells": [
  {
   "cell_type": "code",
   "execution_count": 1,
   "metadata": {
    "collapsed": false
   },
   "outputs": [
    {
     "name": "stderr",
     "output_type": "stream",
     "text": [
      "Using TensorFlow backend.\n"
     ]
    }
   ],
   "source": [
    "from keras.preprocessing.image import ImageDataGenerator\n",
    "from keras.models import Model\n",
    "from keras.layers import Conv2D, AveragePooling2D,Input,BatchNormalization\n",
    "from keras.layers import Activation, Dropout, Flatten, Dense,Concatenate\n",
    "from keras.utils import to_categorical\n",
    "from keras.preprocessing.image import img_to_array\n",
    "from keras.applications.vgg16 import preprocess_input\n",
    "from keras import backend as K\n",
    "import numpy as np"
   ]
  },
  {
   "cell_type": "code",
   "execution_count": 3,
   "metadata": {
    "collapsed": true,
    "scrolled": false
   },
   "outputs": [],
   "source": [
    "#设置图像数据\n",
    "img_width, img_height = 50, 50\n",
    "\n",
    "if K.image_data_format() == 'channels_first':\n",
    "    input_shape = (3, img_width, img_height)\n",
    "    bn_axis = 1\n",
    "else:\n",
    "    input_shape = (img_width, img_height, 3)\n",
    "    bn_axis = 3\n",
    "\n",
    "x = Input (shape = input_shape)    \n",
    "\n",
    "#生成一个可分支模型\n",
    "#分支一\n",
    "branch1_out = Conv2D(16, (1, 1),\n",
    "    padding=\"same\",\n",
    "    use_bias=False)(x)\n",
    "branch1_out = BatchNormalization(axis=bn_axis)(branch1_out)\n",
    "branch1_out = Activation('relu')(branch1_out)\n",
    "    \n",
    "    \n",
    "#分支二   \n",
    "branch2_out = Conv2D(\n",
    "         16, (1, 1),\n",
    "         padding=\"same\",\n",
    "         use_bias=False)(x)\n",
    "branch2_out = BatchNormalization(axis=bn_axis)(branch2_out)\n",
    "branch2_out = Activation('relu')(branch2_out)    \n",
    "branch2_out = Conv2D(\n",
    "         48, (3, 3),\n",
    "         padding=\"same\",\n",
    "         use_bias=False)(branch2_out)\n",
    "branch2_out = BatchNormalization(axis=bn_axis)(branch2_out)\n",
    "branch2_out = Activation('relu')(branch2_out) \n",
    "\n",
    "\n",
    "#分支三\n",
    "branch3_out = Conv2D(\n",
    "       16, (1, 1),\n",
    "        padding=\"same\",\n",
    "        use_bias=False)(x)\n",
    "branch3_out = BatchNormalization(axis=bn_axis)(branch3_out)\n",
    "branch3_out = Activation('relu')(branch3_out)\n",
    "branch3_out = Conv2D(\n",
    "         24, (5, 5),\n",
    "         padding=\"same\",\n",
    "         use_bias=False)(branch3_out)\n",
    "branch3_out = BatchNormalization(axis=bn_axis)(branch3_out)\n",
    "branch3_out = Activation('relu')(branch3_out) \n",
    "\n",
    "#branch 4\n",
    "branch4_out = AveragePooling2D(\n",
    "        pool_size=(3, 3),strides=(1, 1), padding='same', data_format=K.image_data_format())(x)\n",
    "branch4_out = Conv2D(\n",
    "         16, (1, 1),\n",
    "         padding=\"same\",\n",
    "         use_bias=False)(branch4_out)\n",
    "branch4_out = BatchNormalization(axis=bn_axis)(branch4_out)\n",
    "branch4_out = Activation('relu')(branch4_out) \n",
    "\n",
    "#连接层\n",
    "out = Concatenate(axis=bn_axis)([branch1_out, branch2_out, branch3_out, branch4_out])\n",
    "out = Conv2D(\n",
    "         16, (1, 1),\n",
    "         padding=\"same\",\n",
    "         use_bias=False)(out)\n",
    "#全链接层\n",
    "out = Flatten()(out)\n",
    "out = Dense(48, activation='relu')(out)\n",
    "#输出\n",
    "out = Dense(1, activation='sigmoid')(out)\n",
    "\n",
    "model = Model(x, out)\n",
    "\n",
    "model.compile(loss='binary_crossentropy',\n",
    "              optimizer='rmsprop',\n",
    "              metrics=['accuracy'])"
   ]
  },
  {
   "cell_type": "code",
   "execution_count": 4,
   "metadata": {
    "collapsed": false,
    "scrolled": true
   },
   "outputs": [
    {
     "name": "stdout",
     "output_type": "stream",
     "text": [
      "__________________________________________________________________________________________________\n",
      "Layer (type)                    Output Shape         Param #     Connected to                     \n",
      "==================================================================================================\n",
      "input_2 (InputLayer)            (None, 50, 50, 3)    0                                            \n",
      "__________________________________________________________________________________________________\n",
      "conv2d_9 (Conv2D)               (None, 50, 50, 16)   48          input_2[0][0]                    \n",
      "__________________________________________________________________________________________________\n",
      "conv2d_11 (Conv2D)              (None, 50, 50, 16)   48          input_2[0][0]                    \n",
      "__________________________________________________________________________________________________\n",
      "batch_normalization_8 (BatchNor (None, 50, 50, 16)   64          conv2d_9[0][0]                   \n",
      "__________________________________________________________________________________________________\n",
      "batch_normalization_10 (BatchNo (None, 50, 50, 16)   64          conv2d_11[0][0]                  \n",
      "__________________________________________________________________________________________________\n",
      "activation_8 (Activation)       (None, 50, 50, 16)   0           batch_normalization_8[0][0]      \n",
      "__________________________________________________________________________________________________\n",
      "activation_10 (Activation)      (None, 50, 50, 16)   0           batch_normalization_10[0][0]     \n",
      "__________________________________________________________________________________________________\n",
      "average_pooling2d_2 (AveragePoo (None, 50, 50, 3)    0           input_2[0][0]                    \n",
      "__________________________________________________________________________________________________\n",
      "conv2d_8 (Conv2D)               (None, 50, 50, 16)   48          input_2[0][0]                    \n",
      "__________________________________________________________________________________________________\n",
      "conv2d_10 (Conv2D)              (None, 50, 50, 48)   6912        activation_8[0][0]               \n",
      "__________________________________________________________________________________________________\n",
      "conv2d_12 (Conv2D)              (None, 50, 50, 24)   9600        activation_10[0][0]              \n",
      "__________________________________________________________________________________________________\n",
      "conv2d_13 (Conv2D)              (None, 50, 50, 16)   48          average_pooling2d_2[0][0]        \n",
      "__________________________________________________________________________________________________\n",
      "batch_normalization_7 (BatchNor (None, 50, 50, 16)   64          conv2d_8[0][0]                   \n",
      "__________________________________________________________________________________________________\n",
      "batch_normalization_9 (BatchNor (None, 50, 50, 48)   192         conv2d_10[0][0]                  \n",
      "__________________________________________________________________________________________________\n",
      "batch_normalization_11 (BatchNo (None, 50, 50, 24)   96          conv2d_12[0][0]                  \n",
      "__________________________________________________________________________________________________\n",
      "batch_normalization_12 (BatchNo (None, 50, 50, 16)   64          conv2d_13[0][0]                  \n",
      "__________________________________________________________________________________________________\n",
      "activation_7 (Activation)       (None, 50, 50, 16)   0           batch_normalization_7[0][0]      \n",
      "__________________________________________________________________________________________________\n",
      "activation_9 (Activation)       (None, 50, 50, 48)   0           batch_normalization_9[0][0]      \n",
      "__________________________________________________________________________________________________\n",
      "activation_11 (Activation)      (None, 50, 50, 24)   0           batch_normalization_11[0][0]     \n",
      "__________________________________________________________________________________________________\n",
      "activation_12 (Activation)      (None, 50, 50, 16)   0           batch_normalization_12[0][0]     \n",
      "__________________________________________________________________________________________________\n",
      "concatenate_2 (Concatenate)     (None, 50, 50, 104)  0           activation_7[0][0]               \n",
      "                                                                 activation_9[0][0]               \n",
      "                                                                 activation_11[0][0]              \n",
      "                                                                 activation_12[0][0]              \n",
      "__________________________________________________________________________________________________\n",
      "conv2d_14 (Conv2D)              (None, 50, 50, 16)   1664        concatenate_2[0][0]              \n",
      "__________________________________________________________________________________________________\n",
      "flatten_2 (Flatten)             (None, 40000)        0           conv2d_14[0][0]                  \n",
      "__________________________________________________________________________________________________\n",
      "dense_3 (Dense)                 (None, 48)           1920048     flatten_2[0][0]                  \n",
      "__________________________________________________________________________________________________\n",
      "dense_4 (Dense)                 (None, 1)            49          dense_3[0][0]                    \n",
      "==================================================================================================\n",
      "Total params: 1,939,009\n",
      "Trainable params: 1,938,737\n",
      "Non-trainable params: 272\n",
      "__________________________________________________________________________________________________\n"
     ]
    }
   ],
   "source": [
    "model.summary()"
   ]
  },
  {
   "cell_type": "code",
   "execution_count": 5,
   "metadata": {
    "collapsed": false
   },
   "outputs": [
    {
     "name": "stdout",
     "output_type": "stream",
     "text": [
      "Found 10835 images belonging to 2 classes.\n",
      "Found 4000 images belonging to 2 classes.\n"
     ]
    }
   ],
   "source": [
    "#训练加载路径\n",
    "train_data_dir = r'E:/pycharm/dogs-vs-cats/train'\n",
    "validation_data_dir = r'E:/pycharm/dogs-vs-cats/validation'\n",
    "nb_train_samples = 10835\n",
    "nb_validation_samples = 4000\n",
    "epochs = 1\n",
    "batch_size = 5\n",
    "\n",
    "#训练数据大小变化\n",
    "train_datagen = ImageDataGenerator(\n",
    "    rescale=1. / 255,\n",
    "    shear_range=0.2,\n",
    "    zoom_range=0.2,\n",
    "    horizontal_flip=True)\n",
    "\n",
    "\n",
    "test_datagen = ImageDataGenerator(rescale=1. / 255)\n",
    "#生成训练数据\n",
    "train_generator = train_datagen.flow_from_directory(\n",
    "    train_data_dir,\n",
    "    target_size=(img_width, img_height),\n",
    "    batch_size=batch_size,\n",
    "    class_mode='binary')\n",
    "\n",
    "validation_generator = test_datagen.flow_from_directory(\n",
    "    validation_data_dir,\n",
    "    target_size=(img_width, img_height),\n",
    "    batch_size=batch_size,\n",
    "    class_mode='binary')\n",
    "\n"
   ]
  },
  {
   "cell_type": "code",
   "execution_count": 6,
   "metadata": {
    "collapsed": false,
    "scrolled": false
   },
   "outputs": [
    {
     "name": "stdout",
     "output_type": "stream",
     "text": [
      "Epoch 1/1\n",
      "2167/2167 [==============================] - 264s 122ms/step - loss: 8.0516 - acc: 0.4950 - val_loss: 8.0550 - val_acc: 0.5003\n"
     ]
    },
    {
     "data": {
      "text/plain": [
       "<keras.callbacks.History at 0x28696b1b438>"
      ]
     },
     "execution_count": 6,
     "metadata": {},
     "output_type": "execute_result"
    }
   ],
   "source": [
    "#训练\n",
    "model.fit_generator(\n",
    "    train_generator,\n",
    "    steps_per_epoch=nb_train_samples // batch_size,\n",
    "    epochs=epochs,\n",
    "    validation_data=validation_generator,\n",
    "    validation_steps=nb_validation_samples // batch_size)"
   ]
  },
  {
   "cell_type": "code",
   "execution_count": 9,
   "metadata": {
    "collapsed": false
   },
   "outputs": [
    {
     "name": "stdout",
     "output_type": "stream",
     "text": [
      "[[0.]]\n"
     ]
    }
   ],
   "source": [
    "import cv2\n",
    "img = cv2.resize(cv2.imread(r'E:/pycharm/dogs-vs-cats/test/4.jpg'), (img_width, img_height)).astype(np.float32)\n",
    "\n",
    "x = img_to_array(img)\n",
    "\n",
    "x = np.expand_dims(x, axis=0)\n",
    "\n",
    "\n",
    "\n",
    "score = model.predict(x)\n",
    "\n",
    "\n",
    "print(score)"
   ]
  },
  {
   "cell_type": "code",
   "execution_count": null,
   "metadata": {
    "collapsed": true
   },
   "outputs": [],
   "source": []
  }
 ],
 "metadata": {
  "kernelspec": {
   "display_name": "Python [default]",
   "language": "python",
   "name": "python3"
  },
  "language_info": {
   "codemirror_mode": {
    "name": "ipython",
    "version": 3
   },
   "file_extension": ".py",
   "mimetype": "text/x-python",
   "name": "python",
   "nbconvert_exporter": "python",
   "pygments_lexer": "ipython3",
   "version": "3.5.2"
  },
  "ssap_exp_config": {
   "error_alert": "Error Occurs!",
   "initial": [],
   "max_iteration": 1000,
   "recv_id": "",
   "running": [],
   "summary": [],
   "version": "1.1.1"
  }
 },
 "nbformat": 4,
 "nbformat_minor": 1
}
